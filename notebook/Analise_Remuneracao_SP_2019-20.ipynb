{
 "cells": [
  {
   "cell_type": "markdown",
   "metadata": {},
   "source": [
    "# Análise dos Dados da Remuneração do Servidor Público de São Paulo"
   ]
  },
  {
   "cell_type": "markdown",
   "metadata": {},
   "source": [
    "## 1. Introdução"
   ]
  },
  {
   "cell_type": "markdown",
   "metadata": {},
   "source": [
    "Os dados utilizados para a análise deste notebook foram extraidos do [Portal da Transparência Estadual de São Paulo](http://www.transparencia.sp.gov.br/), as informações contidas neles se tratam apenas sobre:\n",
    "   * Servidores Públicos\n",
    "   * Empregados Públicos e Militares ativos\n",
    "   * Empregados inativos ou reformados e pensionistas do Poder Executivo: \n",
    "       * Secretarias de Estado (inclusive Polícia Militar)\n",
    "       * Procuradoria Geral do Estado\n",
    "       * Autarquias\n",
    "       * Fundações e Sociedades de Economia Mistaocupantes de cargos, postos, graduações, empregos e funções públicas\n",
    "\n",
    "Portantos os dados não abrangem informações de:\n",
    "   * Servidores e empregados públicos, ativos, inativos e pensionistas das Universidades (USP, UNESP e UNICAMP)\n",
    "   * Servidores e membros da Defensoria Pública, Ministério Público e dos demais Poderes"
   ]
  },
  {
   "cell_type": "code",
   "execution_count": null,
   "metadata": {},
   "outputs": [],
   "source": []
  }
 ],
 "metadata": {
  "kernelspec": {
   "display_name": "Python 3",
   "language": "python",
   "name": "python3"
  },
  "language_info": {
   "codemirror_mode": {
    "name": "ipython",
    "version": 3
   },
   "file_extension": ".py",
   "mimetype": "text/x-python",
   "name": "python",
   "nbconvert_exporter": "python",
   "pygments_lexer": "ipython3",
   "version": "3.8.2"
  }
 },
 "nbformat": 4,
 "nbformat_minor": 4
}
